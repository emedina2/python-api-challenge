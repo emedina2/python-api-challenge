{
 "cells": [
  {
   "cell_type": "markdown",
   "metadata": {},
   "source": [
    "# WeatherPy\n",
    "----\n",
    "\n",
    "#### Note\n",
    "* Instructions have been included for each segment. You do not have to follow them exactly, but they are included to help you think through the steps."
   ]
  },
  {
   "cell_type": "code",
   "execution_count": 1,
   "metadata": {
    "scrolled": true
   },
   "outputs": [],
   "source": [
    "# Dependencies and Setup\n",
    "import matplotlib.pyplot as plt\n",
    "import pandas as pd\n",
    "import numpy as np\n",
    "import requests\n",
    "import time\n",
    "from scipy.stats import linregress\n",
    "import json\n",
    "from datetime import datetime\n",
    "\n",
    "# Import API key\n",
    "from api_keys import weather_api_key\n",
    "\n",
    "# Incorporated citipy to determine city based on latitude and longitude\n",
    "from citipy import citipy\n",
    "\n",
    "# Output File (CSV)\n",
    "output_data_file = \"output_data/cities.csv\"\n",
    "\n",
    "# Range of latitudes and longitudes\n",
    "lat_range = (-90, 90)\n",
    "lng_range = (-180, 180)\n",
    "\n",
    "#get current date\n",
    "date = datetime.date(datetime.now())"
   ]
  },
  {
   "cell_type": "markdown",
   "metadata": {},
   "source": [
    "## Generate Cities List"
   ]
  },
  {
   "cell_type": "code",
   "execution_count": 2,
   "metadata": {},
   "outputs": [
    {
     "data": {
      "text/plain": [
       "630"
      ]
     },
     "execution_count": 2,
     "metadata": {},
     "output_type": "execute_result"
    }
   ],
   "source": [
    "# List for holding lat_lngs and cities\n",
    "lat_lngs = []\n",
    "cities = []\n",
    "\n",
    "# Create a set of random lat and lng combinations\n",
    "lats = np.random.uniform(lat_range[0], lat_range[1], size=1500)\n",
    "lngs = np.random.uniform(lng_range[0], lng_range[1], size=1500)\n",
    "lat_lngs = zip(lats, lngs)\n",
    "\n",
    "# Identify nearest city for each lat, lng combination\n",
    "for lat_lng in lat_lngs:\n",
    "    city = citipy.nearest_city(lat_lng[0], lat_lng[1]).city_name\n",
    "    \n",
    "    # If the city is unique, then add it to a our cities list\n",
    "    if city not in cities:\n",
    "        cities.append(city)\n",
    "\n",
    "# Print the city count to confirm sufficient count\n",
    "len(cities)"
   ]
  },
  {
   "cell_type": "markdown",
   "metadata": {},
   "source": [
    "### Perform API Calls\n",
    "* Perform a weather check on each city using a series of successive API calls.\n",
    "* Include a print log of each city as it'sbeing processed (with the city number and city name).\n"
   ]
  },
  {
   "cell_type": "code",
   "execution_count": 11,
   "metadata": {
    "scrolled": true
   },
   "outputs": [
    {
     "name": "stdout",
     "output_type": "stream",
     "text": [
      "Gathering data for city 0, barrow.\n",
      "Gathering data for city 1, hermanus.\n",
      "Gathering data for city 2, astana.\n",
      "Gathering data for city 3, port lincoln.\n",
      "Gathering data for city 4, maldonado.\n",
      "Gathering data for city 5, punta arenas.\n",
      "Gathering data for city 6, aripuana.\n",
      "Gathering data for city 7, ahipara.\n",
      "Gathering data for city 8, atuona.\n",
      "Gathering data for city 9, faanui.\n",
      "Gathering data for city 10, vila franca do campo.\n",
      "Gathering data for city 11, los llanos de aridane.\n",
      "Gathering data for city 12, cherskiy.\n",
      "Gathering data for city 13, torbay.\n",
      "Gathering data for city 14, avarua.\n",
      "Gathering data for city 15, albany.\n",
      "Gathering data for city 16, colares.\n",
      "Gathering data for city 17, baykit.\n",
      "Gathering data for city 18, saldanha.\n",
      "Gathering data for city 19, jamestown.\n",
      "Gathering data for city 20, hamilton.\n",
      "Gathering data for city 21, salalah.\n",
      "Gathering data for city 22, lovozero.\n",
      "Gathering data for city 23, new norfolk.\n",
      "Gathering data for city 24, escanaba.\n",
      "Gathering data for city 25, nottuln.\n",
      "Gathering data for city 26, tuktoyaktuk.\n",
      "Gathering data for city 27, qaanaaq.\n",
      "Gathering data for city 28, hualmay.\n",
      "Gathering data for city 29, georgetown.\n",
      "Gathering data for city 30, hilo.\n",
      "Gathering data for city 31, juneau.\n",
      "Gathering data for city 32, saint-philippe.\n",
      "Gathering data for city 33, hobart.\n",
      "Gathering data for city 34, nyurba.\n",
      "Gathering data for city 35, mataura.\n",
      "Gathering data for city 36, padang.\n",
      "Gathering data for city 37, klaksvik.\n",
      "Gathering data for city 38, maraba.\n",
      "Gathering data for city 39, catamarca.\n",
      "Gathering data for city 40, rikitea.\n",
      "Gathering data for city 41, castro.\n",
      "Gathering data for city 42, east london.\n",
      "Gathering data for city 43, keti bandar.\n",
      "Gathering data for city 44, sisophon.\n",
      "Gathering data for city 45, fuerte olimpo.\n",
      "Gathering data for city 46, mecca.\n",
      "Gathering data for city 47, nelson bay.\n",
      "Gathering data for city 48, antalaha.\n",
      "Gathering data for city 49, port alfred.\n",
      "Gathering data for city 50, tuatapere.\n",
      "Gathering data for city 51, hovd.\n",
      "Gathering data for city 52, nikolskoye.\n",
      "Gathering data for city 53, port elizabeth.\n",
      "Gathering data for city 54, butaritari.\n",
      "Gathering data for city 55, sanmenxia.\n",
      "Gathering data for city 56, longyearbyen.\n",
      "Gathering data for city 57, vaini.\n",
      "Gathering data for city 58, berlevag.\n",
      "Gathering data for city 59, esperance.\n",
      "Gathering data for city 60, benjamin hill.\n",
      "Gathering data for city 61, pevek.\n",
      "Gathering data for city 62, frontera.\n",
      "Gathering data for city 63, saint-augustin.\n",
      "Gathering data for city 64, sitka.\n",
      "Gathering data for city 65, gawler.\n",
      "Gathering data for city 66, kamenskiy.\n",
      "Gathering data for city 67, puerto ayora.\n",
      "Gathering data for city 68, ushuaia.\n",
      "Gathering data for city 69, dunedin.\n",
      "Gathering data for city 70, honiara.\n",
      "Gathering data for city 71, marawi.\n",
      "Gathering data for city 72, ponta do sol.\n",
      "Gathering data for city 73, sabang.\n",
      "Gathering data for city 74, san cristobal.\n",
      "Gathering data for city 75, grants.\n",
      "Gathering data for city 76, mar del plata.\n",
      "Gathering data for city 77, kodiak.\n",
      "Gathering data for city 78, touros.\n",
      "Gathering data for city 79, busselton.\n",
      "Gathering data for city 80, svetlaya.\n",
      "Gathering data for city 81, yambio.\n",
      "Gathering data for city 82, bredasdorp.\n",
      "Gathering data for city 83, thompson.\n",
      "Gathering data for city 84, saint george.\n",
      "Gathering data for city 85, araouane.\n",
      "Gathering data for city 86, hithadhoo.\n",
      "Gathering data for city 87, bethel.\n",
      "Gathering data for city 88, whitehorse.\n",
      "Gathering data for city 89, coquimbo.\n",
      "Gathering data for city 90, sweetwater.\n",
      "Gathering data for city 91, alexander city.\n",
      "Gathering data for city 92, iqaluit.\n",
      "Gathering data for city 93, cape town.\n",
      "Gathering data for city 94, irbeyskoye.\n",
      "Gathering data for city 95, suntar.\n",
      "Gathering data for city 96, murdochville.\n",
      "Gathering data for city 97, saskylakh.\n",
      "Gathering data for city 98, katherine.\n",
      "Gathering data for city 99, barentu.\n",
      "Gathering data for city 100, severo-kurilsk.\n",
      "Gathering data for city 101, puerto ayacucho.\n",
      "Gathering data for city 102, san juan bautista.\n",
      "Gathering data for city 103, carmen.\n",
      "Gathering data for city 104, hay river.\n",
      "Gathering data for city 105, marienburg.\n",
      "Gathering data for city 106, kapaa.\n",
      "Gathering data for city 107, malanje.\n",
      "Gathering data for city 108, san jose del guaviare.\n",
      "Gathering data for city 109, khorixas.\n",
      "Gathering data for city 110, bluff.\n",
      "Gathering data for city 111, whitianga.\n",
      "Gathering data for city 112, waw.\n",
      "Gathering data for city 113, mount isa.\n",
      "Gathering data for city 114, coos bay.\n",
      "Gathering data for city 115, airai.\n",
      "Gathering data for city 116, taltal.\n",
      "Gathering data for city 117, ankpa.\n",
      "Gathering data for city 118, eskisehir.\n",
      "Gathering data for city 119, yining.\n",
      "Gathering data for city 120, troy.\n",
      "Gathering data for city 121, soyo.\n",
      "Gathering data for city 122, artvin.\n",
      "Gathering data for city 123, guerrero.\n",
      "Gathering data for city 124, cayenne.\n",
      "Gathering data for city 125, tiksi.\n",
      "Gathering data for city 126, loncoche.\n",
      "Gathering data for city 127, buala.\n",
      "Gathering data for city 128, kapoeta.\n",
      "Gathering data for city 129, grand gaube.\n",
      "Gathering data for city 130, bubaque.\n",
      "Gathering data for city 131, srandakan.\n",
      "Gathering data for city 132, itarema.\n",
      "Gathering data for city 133, acapulco.\n",
      "Gathering data for city 134, san francisco.\n",
      "Gathering data for city 135, lasa.\n",
      "Gathering data for city 136, marcona.\n",
      "marcona has no data.\n",
      "Gathering data for city 137, lagoa.\n",
      "Gathering data for city 138, longlac.\n",
      "longlac has no data.\n",
      "Gathering data for city 139, codrington.\n",
      "Gathering data for city 140, santa rosa.\n",
      "Gathering data for city 141, lebu.\n",
      "Gathering data for city 142, loiza.\n",
      "Gathering data for city 143, benghazi.\n",
      "Gathering data for city 144, khatanga.\n",
      "Gathering data for city 145, tevaitoa.\n",
      "Gathering data for city 146, katsuura.\n",
      "Gathering data for city 147, brainerd.\n",
      "Gathering data for city 148, may pen.\n",
      "Gathering data for city 149, inuvik.\n",
      "Gathering data for city 150, victoria.\n",
      "Gathering data for city 151, port augusta.\n",
      "Gathering data for city 152, bengkulu.\n",
      "Gathering data for city 153, priargunsk.\n",
      "Gathering data for city 154, kunzelsau.\n",
      "Gathering data for city 155, antofagasta.\n",
      "Gathering data for city 156, puerto madryn.\n",
      "Gathering data for city 157, mount gambier.\n",
      "Gathering data for city 158, oyama.\n",
      "Gathering data for city 159, kruisfontein.\n",
      "Gathering data for city 160, maceio.\n",
      "Gathering data for city 161, north bend.\n",
      "Gathering data for city 162, cervo.\n",
      "Gathering data for city 163, alamosa.\n",
      "Gathering data for city 164, fiche.\n",
      "Gathering data for city 165, naze.\n",
      "Gathering data for city 166, lashio.\n",
      "Gathering data for city 167, sept-iles.\n",
      "Gathering data for city 168, diourbel.\n",
      "Gathering data for city 169, carnarvon.\n",
      "Gathering data for city 170, joura.\n",
      "Gathering data for city 171, nemuro.\n",
      "Gathering data for city 172, darab.\n",
      "Gathering data for city 173, kaihua.\n",
      "Gathering data for city 174, gairo.\n",
      "Gathering data for city 175, nisia floresta.\n",
      "Gathering data for city 176, boulsa.\n",
      "Gathering data for city 177, chuy.\n",
      "Gathering data for city 178, namatanai.\n",
      "Gathering data for city 179, iquique.\n",
      "Gathering data for city 180, penzance.\n",
      "Gathering data for city 181, senanga.\n",
      "Gathering data for city 182, margate.\n",
      "Gathering data for city 183, bonthe.\n",
      "Gathering data for city 184, weimar.\n",
      "Gathering data for city 185, barentsburg.\n",
      "barentsburg has no data.\n",
      "Gathering data for city 186, namibe.\n",
      "Gathering data for city 187, goderich.\n",
      "Gathering data for city 188, rawah.\n",
      "Gathering data for city 189, olafsvik.\n",
      "Gathering data for city 190, xichang.\n",
      "Gathering data for city 191, novyy urgal.\n",
      "Gathering data for city 192, ereymentau.\n",
      "Gathering data for city 193, provideniya.\n",
      "Gathering data for city 194, cabo san lucas.\n",
      "Gathering data for city 195, qaqortoq.\n",
      "Gathering data for city 196, fortuna.\n",
      "Gathering data for city 197, kloulklubed.\n",
      "Gathering data for city 198, haputale.\n",
      "Gathering data for city 199, kavaratti.\n",
      "Gathering data for city 200, petrykiv.\n",
      "Gathering data for city 201, wanning.\n",
      "Gathering data for city 202, westport.\n",
      "Gathering data for city 203, north platte.\n",
      "Gathering data for city 204, meulaboh.\n",
      "Gathering data for city 205, mayumba.\n",
      "Gathering data for city 206, gari.\n",
      "Gathering data for city 207, ambilobe.\n",
      "Gathering data for city 208, merauke.\n",
      "Gathering data for city 209, luanda.\n",
      "Gathering data for city 210, arraial do cabo.\n",
      "Gathering data for city 211, henties bay.\n"
     ]
    },
    {
     "name": "stdout",
     "output_type": "stream",
     "text": [
      "Gathering data for city 212, toamasina.\n",
      "Gathering data for city 213, leningradskiy.\n",
      "Gathering data for city 214, maryville.\n",
      "Gathering data for city 215, chapais.\n",
      "Gathering data for city 216, mozarlandia.\n",
      "Gathering data for city 217, wajid.\n",
      "Gathering data for city 218, tsabong.\n",
      "Gathering data for city 219, eureka.\n",
      "Gathering data for city 220, luderitz.\n",
      "Gathering data for city 221, pringsewu.\n",
      "Gathering data for city 222, mogoytuy.\n",
      "Gathering data for city 223, sinegorye.\n",
      "Gathering data for city 224, kuzhenkino.\n",
      "Gathering data for city 225, darhan.\n",
      "Gathering data for city 226, sao felix do xingu.\n",
      "Gathering data for city 227, fruitvale.\n",
      "Gathering data for city 228, boca do acre.\n",
      "Gathering data for city 229, sao filipe.\n",
      "Gathering data for city 230, upernavik.\n",
      "Gathering data for city 231, dhidhdhoo.\n",
      "Gathering data for city 232, poyarkovo.\n",
      "Gathering data for city 233, lazaro cardenas.\n",
      "Gathering data for city 234, samsun.\n",
      "Gathering data for city 235, hasaki.\n",
      "Gathering data for city 236, ulladulla.\n",
      "Gathering data for city 237, palabuhanratu.\n",
      "palabuhanratu has no data.\n",
      "Gathering data for city 238, brae.\n",
      "Gathering data for city 239, manaus.\n",
      "Gathering data for city 240, santa isabel do rio negro.\n",
      "Gathering data for city 241, vardo.\n",
      "Gathering data for city 242, lompoc.\n",
      "Gathering data for city 243, yar-sale.\n",
      "Gathering data for city 244, qasigiannguit.\n",
      "Gathering data for city 245, alofi.\n",
      "Gathering data for city 246, broken hill.\n",
      "Gathering data for city 247, bathsheba.\n",
      "Gathering data for city 248, clyde river.\n",
      "Gathering data for city 249, sao jose da coroa grande.\n",
      "Gathering data for city 250, faya.\n",
      "Gathering data for city 251, bo rai.\n",
      "Gathering data for city 252, kirksville.\n",
      "Gathering data for city 253, mahebourg.\n",
      "Gathering data for city 254, chokurdakh.\n",
      "Gathering data for city 255, ca mau.\n",
      "Gathering data for city 256, berlin.\n",
      "Gathering data for city 257, yellowknife.\n",
      "Gathering data for city 258, neuquen.\n",
      "Gathering data for city 259, anadyr.\n",
      "Gathering data for city 260, strezhevoy.\n",
      "Gathering data for city 261, bonavista.\n",
      "Gathering data for city 262, cravo norte.\n",
      "Gathering data for city 263, kinkala.\n",
      "Gathering data for city 264, kristiansand.\n",
      "Gathering data for city 265, zhigansk.\n",
      "Gathering data for city 266, attawapiskat.\n",
      "attawapiskat has no data.\n",
      "Gathering data for city 267, miles city.\n",
      "Gathering data for city 268, kabac.\n",
      "Gathering data for city 269, hegang.\n",
      "Gathering data for city 270, qiongshan.\n",
      "Gathering data for city 271, birmitrapur.\n",
      "Gathering data for city 272, harper.\n",
      "Gathering data for city 273, menongue.\n",
      "Gathering data for city 274, sumbe.\n",
      "Gathering data for city 275, lorengau.\n",
      "Gathering data for city 276, jalapa.\n",
      "Gathering data for city 277, avera.\n",
      "Gathering data for city 278, usinsk.\n",
      "Gathering data for city 279, akyab.\n",
      "Gathering data for city 280, ati.\n",
      "Gathering data for city 281, buenaventura.\n",
      "Gathering data for city 282, mali.\n",
      "Gathering data for city 283, mayo.\n",
      "Gathering data for city 284, tasiilaq.\n",
      "Gathering data for city 285, birjand.\n",
      "Gathering data for city 286, caledon.\n",
      "Gathering data for city 287, thinadhoo.\n",
      "Gathering data for city 288, kaitangata.\n",
      "Gathering data for city 289, puro.\n",
      "Gathering data for city 290, maxixe.\n",
      "Gathering data for city 291, gazli.\n",
      "Gathering data for city 292, malaryta.\n",
      "Gathering data for city 293, kalmunai.\n",
      "Gathering data for city 294, najran.\n",
      "Gathering data for city 295, camopi.\n",
      "Gathering data for city 296, kilis.\n",
      "Gathering data for city 297, rio de jesus.\n",
      "Gathering data for city 298, trencin.\n",
      "Gathering data for city 299, krasnoselkup.\n",
      "Gathering data for city 300, tukrah.\n",
      "Gathering data for city 301, caraquet.\n",
      "Gathering data for city 302, phalombe.\n",
      "Gathering data for city 303, sorland.\n",
      "Gathering data for city 304, bilma.\n",
      "Gathering data for city 305, batetskiy.\n",
      "Gathering data for city 306, at-bashi.\n",
      "Gathering data for city 307, dutse.\n",
      "Gathering data for city 308, baghdad.\n",
      "Gathering data for city 309, domoni.\n",
      "Gathering data for city 310, lata.\n",
      "Gathering data for city 311, komsomolskiy.\n",
      "Gathering data for city 312, san francisco del mar.\n",
      "Gathering data for city 313, lianzhou.\n",
      "Gathering data for city 314, daru.\n",
      "Gathering data for city 315, myingyan.\n",
      "Gathering data for city 316, sudogda.\n",
      "Gathering data for city 317, kulhudhuffushi.\n",
      "Gathering data for city 318, olga.\n",
      "Gathering data for city 319, makakilo city.\n",
      "Gathering data for city 320, lenger.\n",
      "Gathering data for city 321, upata.\n",
      "Gathering data for city 322, kalianget.\n",
      "Gathering data for city 323, pisco.\n",
      "Gathering data for city 324, boma.\n",
      "Gathering data for city 325, bafq.\n",
      "Gathering data for city 326, vostok.\n",
      "Gathering data for city 327, dingle.\n",
      "Gathering data for city 328, geraldton.\n",
      "Gathering data for city 329, zhangjiakou.\n",
      "Gathering data for city 330, college.\n",
      "Gathering data for city 331, norman wells.\n",
      "Gathering data for city 332, vila velha.\n",
      "Gathering data for city 333, kieta.\n",
      "Gathering data for city 334, santa cruz.\n",
      "Gathering data for city 335, west odessa.\n",
      "Gathering data for city 336, bulgan.\n",
      "Gathering data for city 337, talnakh.\n",
      "Gathering data for city 338, pinega.\n",
      "Gathering data for city 339, husavik.\n",
      "Gathering data for city 340, waipawa.\n",
      "Gathering data for city 341, barabinsk.\n",
      "Gathering data for city 342, hanchuan.\n",
      "Gathering data for city 343, imbituba.\n",
      "Gathering data for city 344, coahuayana.\n",
      "Gathering data for city 345, sao joao da barra.\n",
      "Gathering data for city 346, yurimaguas.\n",
      "Gathering data for city 347, beringovskiy.\n",
      "Gathering data for city 348, flin flon.\n",
      "Gathering data for city 349, olinda.\n",
      "Gathering data for city 350, ipanema.\n",
      "Gathering data for city 351, port blair.\n",
      "Gathering data for city 352, ngaoundere.\n",
      "Gathering data for city 353, narsaq.\n",
      "Gathering data for city 354, gamboma.\n",
      "Gathering data for city 355, odweyne.\n",
      "Gathering data for city 356, madimba.\n",
      "Gathering data for city 357, korla.\n",
      "Gathering data for city 358, bambous virieux.\n",
      "Gathering data for city 359, chisec.\n",
      "Gathering data for city 360, cidreira.\n",
      "Gathering data for city 361, bagdarin.\n",
      "Gathering data for city 362, portland.\n",
      "Gathering data for city 363, castelo do piaui.\n",
      "Gathering data for city 364, bose.\n",
      "Gathering data for city 365, polyanka.\n",
      "Gathering data for city 366, almaznyy.\n",
      "Gathering data for city 367, minas.\n",
      "Gathering data for city 368, dong xoai.\n",
      "Gathering data for city 369, luan.\n",
      "Gathering data for city 370, yerbogachen.\n",
      "Gathering data for city 371, devils lake.\n",
      "Gathering data for city 372, kavieng.\n",
      "Gathering data for city 373, dikson.\n",
      "Gathering data for city 374, iwaki.\n",
      "Gathering data for city 375, siyabuswa.\n",
      "Gathering data for city 376, vermillion.\n",
      "Gathering data for city 377, sioux falls.\n",
      "Gathering data for city 378, san patricio.\n",
      "Gathering data for city 379, clovis.\n",
      "Gathering data for city 380, praia da vitoria.\n",
      "Gathering data for city 381, alekseyevsk.\n",
      "Gathering data for city 382, katangli.\n",
      "Gathering data for city 383, kandi.\n",
      "Gathering data for city 384, whyalla.\n",
      "Gathering data for city 385, nogliki.\n",
      "Gathering data for city 386, beloha.\n",
      "Gathering data for city 387, fernley.\n",
      "Gathering data for city 388, hirara.\n",
      "Gathering data for city 389, udachnyy.\n",
      "Gathering data for city 390, jacareacanga.\n",
      "Gathering data for city 391, tynda.\n",
      "Gathering data for city 392, fuling.\n",
      "Gathering data for city 393, kuala terengganu.\n",
      "Gathering data for city 394, ardakan.\n",
      "Gathering data for city 395, ilulissat.\n",
      "Gathering data for city 396, shakiso.\n",
      "Gathering data for city 397, xiongzhou.\n",
      "Gathering data for city 398, gushikawa.\n",
      "Gathering data for city 399, kahului.\n",
      "Gathering data for city 400, gold coast.\n",
      "Gathering data for city 401, dzerzhinskoye.\n",
      "Gathering data for city 402, nador.\n",
      "Gathering data for city 403, svetlogorsk.\n",
      "Gathering data for city 404, willowmore.\n",
      "Gathering data for city 405, bela.\n",
      "Gathering data for city 406, karratha.\n",
      "Gathering data for city 407, kayasula.\n",
      "Gathering data for city 408, luganville.\n",
      "Gathering data for city 409, abalak.\n",
      "Gathering data for city 410, moindou.\n",
      "Gathering data for city 411, souillac.\n",
      "Gathering data for city 412, samarai.\n",
      "Gathering data for city 413, taganak.\n",
      "Gathering data for city 414, muskogee.\n",
      "Gathering data for city 415, kerema.\n",
      "Gathering data for city 416, ribeira grande.\n",
      "Gathering data for city 417, leshukonskoye.\n",
      "Gathering data for city 418, ballina.\n"
     ]
    },
    {
     "name": "stdout",
     "output_type": "stream",
     "text": [
      "Gathering data for city 419, northam.\n",
      "Gathering data for city 420, wiarton.\n",
      "Gathering data for city 421, zeya.\n",
      "Gathering data for city 422, eyrarbakki.\n",
      "Gathering data for city 423, tual.\n",
      "Gathering data for city 424, kalmar.\n",
      "Gathering data for city 425, purmerend.\n",
      "Gathering data for city 426, la ronge.\n",
      "Gathering data for city 427, nanakuli.\n",
      "Gathering data for city 428, rocha.\n",
      "Gathering data for city 429, bennington.\n",
      "Gathering data for city 430, toktogul.\n",
      "Gathering data for city 431, taybad.\n",
      "Gathering data for city 432, juegang.\n",
      "Gathering data for city 433, rawson.\n",
      "Gathering data for city 434, ocampo.\n",
      "Gathering data for city 435, awbari.\n",
      "Gathering data for city 436, seoul.\n",
      "Gathering data for city 437, inongo.\n",
      "Gathering data for city 438, constitucion.\n",
      "Gathering data for city 439, igrim.\n",
      "Gathering data for city 440, port macquarie.\n",
      "Gathering data for city 441, the valley.\n",
      "Gathering data for city 442, tarakan.\n",
      "Gathering data for city 443, pangody.\n",
      "Gathering data for city 444, bitung.\n",
      "Gathering data for city 445, lambarene.\n",
      "Gathering data for city 446, salinas.\n",
      "Gathering data for city 447, kambove.\n",
      "Gathering data for city 448, tirumullaivasal.\n",
      "Gathering data for city 449, novobirilyussy.\n",
      "Gathering data for city 450, bilibino.\n",
      "Gathering data for city 451, nyrob.\n",
      "Gathering data for city 452, poum.\n",
      "Gathering data for city 453, golden.\n",
      "Gathering data for city 454, broome.\n",
      "Gathering data for city 455, maningrida.\n",
      "Gathering data for city 456, rondonopolis.\n",
      "Gathering data for city 457, deputatskiy.\n",
      "Gathering data for city 458, lethem.\n",
      "Gathering data for city 459, ketchikan.\n",
      "Gathering data for city 460, guayaramerin.\n",
      "Gathering data for city 461, petropavlovsk-kamchatskiy.\n",
      "Gathering data for city 462, mandera.\n",
      "Gathering data for city 463, mundra.\n",
      "Gathering data for city 464, tema.\n",
      "Gathering data for city 465, grindavik.\n",
      "Gathering data for city 466, chulman.\n",
      "Gathering data for city 467, guerrero negro.\n",
      "Gathering data for city 468, prince rupert.\n",
      "Gathering data for city 469, munster.\n",
      "Gathering data for city 470, kindu.\n",
      "Gathering data for city 471, melo.\n",
      "Gathering data for city 472, barahona.\n",
      "Gathering data for city 473, abha.\n",
      "Gathering data for city 474, cap malheureux.\n",
      "Gathering data for city 475, aasiaat.\n",
      "Gathering data for city 476, roald.\n",
      "Gathering data for city 477, inta.\n",
      "Gathering data for city 478, jaguaruna.\n",
      "Gathering data for city 479, hambantota.\n",
      "Gathering data for city 480, mata.\n",
      "Gathering data for city 481, ndele.\n",
      "Gathering data for city 482, curuca.\n",
      "Gathering data for city 483, yablonovo.\n",
      "Gathering data for city 484, bichena.\n",
      "Gathering data for city 485, vao.\n",
      "Gathering data for city 486, tromso.\n",
      "Gathering data for city 487, syamzha.\n",
      "Gathering data for city 488, nonoichi.\n",
      "Gathering data for city 489, nauen.\n",
      "Gathering data for city 490, manado.\n",
      "Gathering data for city 491, barguzin.\n",
      "Gathering data for city 492, nanortalik.\n",
      "Gathering data for city 493, carballo.\n",
      "Gathering data for city 494, genhe.\n",
      "Gathering data for city 495, egvekinot.\n",
      "Gathering data for city 496, mgachi.\n",
      "Gathering data for city 497, paita.\n",
      "Gathering data for city 498, muromtsevo.\n",
      "Gathering data for city 499, ust-omchug.\n",
      "Gathering data for city 500, bone.\n",
      "Gathering data for city 501, vestby.\n",
      "Gathering data for city 502, aksay.\n",
      "Gathering data for city 503, babina.\n",
      "Gathering data for city 504, oistins.\n",
      "Gathering data for city 505, turinsk.\n",
      "Gathering data for city 506, viedma.\n",
      "Gathering data for city 507, yeniseysk.\n",
      "Gathering data for city 508, amga.\n",
      "Gathering data for city 509, apac.\n",
      "Gathering data for city 510, sunrise manor.\n",
      "Gathering data for city 511, islamkot.\n",
      "Gathering data for city 512, guaruja.\n",
      "Gathering data for city 513, umm lajj.\n",
      "Gathering data for city 514, sistranda.\n",
      "Gathering data for city 515, tortosa.\n",
      "Gathering data for city 516, haines junction.\n",
      "Gathering data for city 517, sur.\n",
      "Gathering data for city 518, luebo.\n",
      "Gathering data for city 519, coutances.\n",
      "Gathering data for city 520, druzhba.\n",
      "Gathering data for city 521, sambava.\n",
      "Gathering data for city 522, hastings.\n",
      "Gathering data for city 523, isangel.\n",
      "Gathering data for city 524, pervomayskoye.\n",
      "Gathering data for city 525, camacha.\n",
      "Gathering data for city 526, san quintin.\n",
      "Gathering data for city 527, mehamn.\n",
      "Gathering data for city 528, walvis bay.\n",
      "Gathering data for city 529, pinheiro machado.\n",
      "Gathering data for city 530, enshi.\n",
      "Gathering data for city 531, belaya gora.\n",
      "Gathering data for city 532, pendra.\n",
      "Gathering data for city 533, khandyga.\n",
      "Gathering data for city 534, patacamaya.\n",
      "Gathering data for city 535, stabat.\n",
      "Gathering data for city 536, pyshma.\n",
      "Gathering data for city 537, el playon.\n",
      "Gathering data for city 538, mpigi.\n",
      "Gathering data for city 539, filingue.\n",
      "Gathering data for city 540, port hardy.\n",
      "Gathering data for city 541, bafoulabe.\n",
      "Gathering data for city 542, cockburn town.\n",
      "Gathering data for city 543, tsiroanomandidy.\n",
      "Gathering data for city 544, ponta delgada.\n",
      "Gathering data for city 545, riyadh.\n",
      "Gathering data for city 546, gadarwara.\n",
      "Gathering data for city 547, kilindoni.\n",
      "Gathering data for city 548, havelock.\n",
      "Gathering data for city 549, borogontsy.\n",
      "Gathering data for city 550, vikersund.\n",
      "Gathering data for city 551, nouakchott.\n",
      "Gathering data for city 552, nantucket.\n",
      "Gathering data for city 553, along.\n",
      "Gathering data for city 554, nara.\n",
      "Gathering data for city 555, lubao.\n",
      "Gathering data for city 556, half moon bay.\n",
      "Gathering data for city 557, chiang khong.\n",
      "Gathering data for city 558, muros.\n",
      "Gathering data for city 559, coihaique.\n",
      "Gathering data for city 560, gao.\n",
      "Gathering data for city 561, damghan.\n",
      "Gathering data for city 562, canatlan.\n",
      "Gathering data for city 563, ixtapa.\n",
      "Gathering data for city 564, hildburghausen.\n",
      "Gathering data for city 565, fayaoue.\n",
      "Gathering data for city 566, mnogovershinnyy.\n",
      "Gathering data for city 567, asau.\n",
      "Gathering data for city 568, bowen.\n",
      "Gathering data for city 569, saint-denis.\n",
      "Gathering data for city 570, el ejido.\n",
      "Gathering data for city 571, kismayo.\n",
      "Gathering data for city 572, emmett.\n",
      "Gathering data for city 573, yulara.\n",
      "Gathering data for city 574, byron bay.\n",
      "Gathering data for city 575, laerdalsoyri.\n",
      "Gathering data for city 576, longjiang.\n",
      "Gathering data for city 577, penza.\n",
      "Gathering data for city 578, kupang.\n",
      "Gathering data for city 579, kutum.\n"
     ]
    }
   ],
   "source": [
    "base_url = \"http://api.openweathermap.org/data/2.5/weather?q=\"\n",
    "x=0\n",
    "temps = []\n",
    "lat = []\n",
    "humidity = []\n",
    "wind = []\n",
    "clouds = []\n",
    "bad_cities = []\n",
    "for city in cities:\n",
    "    request = base_url + city + \"&appid=\" + weather_api_key + \"&units=imperial\"\n",
    "    print(f'Gathering data for city {x}, {city}.')\n",
    "    x+= 1\n",
    "    response = requests.get(request).json()\n",
    "    try:\n",
    "        temps.append(response['main']['temp'])\n",
    "        lat.append(response['coord']['lat'])\n",
    "        humidity.append(response['main']['humidity'])\n",
    "        wind.append(response['wind']['speed'])\n",
    "        clouds.append(response['clouds']['all'])\n",
    "    except:\n",
    "        print(f'{city} has no data.')\n",
    "        bad_cities.append(city)\n",
    "    "
   ]
  },
  {
   "cell_type": "code",
   "execution_count": 32,
   "metadata": {},
   "outputs": [
    {
     "name": "stdout",
     "output_type": "stream",
     "text": [
      "45.59\n",
      "14.2\n",
      "55\n",
      "7.94\n",
      "5\n"
     ]
    }
   ],
   "source": [
    "#print(json.dumps(response, indent=4, sort_keys=True))\n",
    "print(response['main']['temp'])\n",
    "print(response['coord']['lat'])\n",
    "print(response['main']['humidity'])\n",
    "print(response['wind']['speed'])\n",
    "print(response['clouds']['all'])"
   ]
  },
  {
   "cell_type": "code",
   "execution_count": 22,
   "metadata": {},
   "outputs": [
    {
     "ename": "ValueError",
     "evalue": "list.remove(x): x not in list",
     "output_type": "error",
     "traceback": [
      "\u001b[0;31m---------------------------------------------------------------------------\u001b[0m",
      "\u001b[0;31mValueError\u001b[0m                                Traceback (most recent call last)",
      "\u001b[0;32m<ipython-input-22-6f61fb4d1b7f>\u001b[0m in \u001b[0;36m<module>\u001b[0;34m\u001b[0m\n\u001b[1;32m      2\u001b[0m \u001b[0mclean_cities\u001b[0m \u001b[0;34m=\u001b[0m \u001b[0mcities\u001b[0m\u001b[0;34m\u001b[0m\u001b[0;34m\u001b[0m\u001b[0m\n\u001b[1;32m      3\u001b[0m \u001b[0;32mfor\u001b[0m \u001b[0mbad\u001b[0m \u001b[0;32min\u001b[0m \u001b[0mbad_cities\u001b[0m\u001b[0;34m:\u001b[0m\u001b[0;34m\u001b[0m\u001b[0;34m\u001b[0m\u001b[0m\n\u001b[0;32m----> 4\u001b[0;31m     \u001b[0mclean_cities\u001b[0m\u001b[0;34m.\u001b[0m\u001b[0mremove\u001b[0m\u001b[0;34m(\u001b[0m\u001b[0mbad\u001b[0m\u001b[0;34m)\u001b[0m\u001b[0;34m\u001b[0m\u001b[0;34m\u001b[0m\u001b[0m\n\u001b[0m",
      "\u001b[0;31mValueError\u001b[0m: list.remove(x): x not in list"
     ]
    }
   ],
   "source": [
    "#remove cities with no data\n",
    "clean_cities = cities\n",
    "for bad in bad_cities:\n",
    "    clean_cities.remove(bad)"
   ]
  },
  {
   "cell_type": "code",
   "execution_count": 23,
   "metadata": {},
   "outputs": [
    {
     "name": "stdout",
     "output_type": "stream",
     "text": [
      "575\n",
      "575\n",
      "575\n",
      "575\n",
      "575\n",
      "575\n"
     ]
    }
   ],
   "source": [
    "#verify all arrays are the same length\n",
    "print(len(cities))\n",
    "print(len(temps))\n",
    "print(len(lat))\n",
    "print(len(humidity))\n",
    "print(len(wind))\n",
    "print(len(clouds))\n",
    "print(len(clean_cities))"
   ]
  },
  {
   "cell_type": "markdown",
   "metadata": {},
   "source": [
    "### Convert Raw Data to DataFrame\n",
    "* Export the city data into a .csv.\n",
    "* Display the DataFrame"
   ]
  },
  {
   "cell_type": "code",
   "execution_count": 24,
   "metadata": {},
   "outputs": [
    {
     "data": {
      "text/html": [
       "<div>\n",
       "<style scoped>\n",
       "    .dataframe tbody tr th:only-of-type {\n",
       "        vertical-align: middle;\n",
       "    }\n",
       "\n",
       "    .dataframe tbody tr th {\n",
       "        vertical-align: top;\n",
       "    }\n",
       "\n",
       "    .dataframe thead th {\n",
       "        text-align: right;\n",
       "    }\n",
       "</style>\n",
       "<table border=\"1\" class=\"dataframe\">\n",
       "  <thead>\n",
       "    <tr style=\"text-align: right;\">\n",
       "      <th></th>\n",
       "      <th>City</th>\n",
       "      <th>Temperatures (F)</th>\n",
       "      <th>Latitude</th>\n",
       "      <th>Humidity %</th>\n",
       "      <th>Wind (mph)</th>\n",
       "    </tr>\n",
       "  </thead>\n",
       "  <tbody>\n",
       "    <tr>\n",
       "      <th>0</th>\n",
       "      <td>barrow</td>\n",
       "      <td>-4.00</td>\n",
       "      <td>71.2906</td>\n",
       "      <td>77</td>\n",
       "      <td>17.27</td>\n",
       "    </tr>\n",
       "    <tr>\n",
       "      <th>1</th>\n",
       "      <td>hermanus</td>\n",
       "      <td>66.00</td>\n",
       "      <td>-34.4187</td>\n",
       "      <td>94</td>\n",
       "      <td>7.94</td>\n",
       "    </tr>\n",
       "    <tr>\n",
       "      <th>2</th>\n",
       "      <td>astana</td>\n",
       "      <td>19.40</td>\n",
       "      <td>51.1801</td>\n",
       "      <td>79</td>\n",
       "      <td>26.84</td>\n",
       "    </tr>\n",
       "    <tr>\n",
       "      <th>3</th>\n",
       "      <td>port lincoln</td>\n",
       "      <td>63.73</td>\n",
       "      <td>-34.7333</td>\n",
       "      <td>64</td>\n",
       "      <td>12.53</td>\n",
       "    </tr>\n",
       "    <tr>\n",
       "      <th>4</th>\n",
       "      <td>maldonado</td>\n",
       "      <td>64.47</td>\n",
       "      <td>-34.6667</td>\n",
       "      <td>94</td>\n",
       "      <td>3.44</td>\n",
       "    </tr>\n",
       "    <tr>\n",
       "      <th>...</th>\n",
       "      <td>...</td>\n",
       "      <td>...</td>\n",
       "      <td>...</td>\n",
       "      <td>...</td>\n",
       "      <td>...</td>\n",
       "    </tr>\n",
       "    <tr>\n",
       "      <th>570</th>\n",
       "      <td>laerdalsoyri</td>\n",
       "      <td>3.83</td>\n",
       "      <td>61.0980</td>\n",
       "      <td>84</td>\n",
       "      <td>3.00</td>\n",
       "    </tr>\n",
       "    <tr>\n",
       "      <th>571</th>\n",
       "      <td>longjiang</td>\n",
       "      <td>5.27</td>\n",
       "      <td>47.3303</td>\n",
       "      <td>83</td>\n",
       "      <td>7.85</td>\n",
       "    </tr>\n",
       "    <tr>\n",
       "      <th>572</th>\n",
       "      <td>penza</td>\n",
       "      <td>-7.53</td>\n",
       "      <td>53.2007</td>\n",
       "      <td>89</td>\n",
       "      <td>9.15</td>\n",
       "    </tr>\n",
       "    <tr>\n",
       "      <th>573</th>\n",
       "      <td>kupang</td>\n",
       "      <td>84.20</td>\n",
       "      <td>-10.1667</td>\n",
       "      <td>89</td>\n",
       "      <td>10.36</td>\n",
       "    </tr>\n",
       "    <tr>\n",
       "      <th>574</th>\n",
       "      <td>kutum</td>\n",
       "      <td>45.59</td>\n",
       "      <td>14.2000</td>\n",
       "      <td>55</td>\n",
       "      <td>7.94</td>\n",
       "    </tr>\n",
       "  </tbody>\n",
       "</table>\n",
       "<p>575 rows × 5 columns</p>\n",
       "</div>"
      ],
      "text/plain": [
       "             City  Temperatures (F)  Latitude  Humidity %  Wind (mph)\n",
       "0          barrow             -4.00   71.2906          77       17.27\n",
       "1        hermanus             66.00  -34.4187          94        7.94\n",
       "2          astana             19.40   51.1801          79       26.84\n",
       "3    port lincoln             63.73  -34.7333          64       12.53\n",
       "4       maldonado             64.47  -34.6667          94        3.44\n",
       "..            ...               ...       ...         ...         ...\n",
       "570  laerdalsoyri              3.83   61.0980          84        3.00\n",
       "571     longjiang              5.27   47.3303          83        7.85\n",
       "572         penza             -7.53   53.2007          89        9.15\n",
       "573        kupang             84.20  -10.1667          89       10.36\n",
       "574         kutum             45.59   14.2000          55        7.94\n",
       "\n",
       "[575 rows x 5 columns]"
      ]
     },
     "execution_count": 24,
     "metadata": {},
     "output_type": "execute_result"
    }
   ],
   "source": [
    "#Create DataFrame\n",
    "weather_df = {\"City\": clean_cities, \"Temperatures (F)\": temps, \"Latitude\" : lat, \"Humidity %\" : humidity, \n",
    "              \"Wind (mph)\" : wind, \"Cloudiness\": clouds}\n",
    "weather_df = pd.DataFrame(weather_df)\n",
    "weather_df"
   ]
  },
  {
   "cell_type": "markdown",
   "metadata": {},
   "source": [
    "## Inspect the data and remove the cities where the humidity > 100%.\n",
    "----\n",
    "Skip this step if there are no cities that have humidity > 100%. "
   ]
  },
  {
   "cell_type": "code",
   "execution_count": 25,
   "metadata": {},
   "outputs": [
    {
     "data": {
      "text/html": [
       "<div>\n",
       "<style scoped>\n",
       "    .dataframe tbody tr th:only-of-type {\n",
       "        vertical-align: middle;\n",
       "    }\n",
       "\n",
       "    .dataframe tbody tr th {\n",
       "        vertical-align: top;\n",
       "    }\n",
       "\n",
       "    .dataframe thead th {\n",
       "        text-align: right;\n",
       "    }\n",
       "</style>\n",
       "<table border=\"1\" class=\"dataframe\">\n",
       "  <thead>\n",
       "    <tr style=\"text-align: right;\">\n",
       "      <th></th>\n",
       "      <th>City</th>\n",
       "      <th>Temperatures (F)</th>\n",
       "      <th>Latitude</th>\n",
       "      <th>Humidity %</th>\n",
       "      <th>Wind (mph)</th>\n",
       "    </tr>\n",
       "  </thead>\n",
       "  <tbody>\n",
       "    <tr>\n",
       "      <th>0</th>\n",
       "      <td>barrow</td>\n",
       "      <td>-4.00</td>\n",
       "      <td>71.2906</td>\n",
       "      <td>77</td>\n",
       "      <td>17.27</td>\n",
       "    </tr>\n",
       "    <tr>\n",
       "      <th>1</th>\n",
       "      <td>hermanus</td>\n",
       "      <td>66.00</td>\n",
       "      <td>-34.4187</td>\n",
       "      <td>94</td>\n",
       "      <td>7.94</td>\n",
       "    </tr>\n",
       "    <tr>\n",
       "      <th>2</th>\n",
       "      <td>astana</td>\n",
       "      <td>19.40</td>\n",
       "      <td>51.1801</td>\n",
       "      <td>79</td>\n",
       "      <td>26.84</td>\n",
       "    </tr>\n",
       "    <tr>\n",
       "      <th>3</th>\n",
       "      <td>port lincoln</td>\n",
       "      <td>63.73</td>\n",
       "      <td>-34.7333</td>\n",
       "      <td>64</td>\n",
       "      <td>12.53</td>\n",
       "    </tr>\n",
       "    <tr>\n",
       "      <th>4</th>\n",
       "      <td>maldonado</td>\n",
       "      <td>64.47</td>\n",
       "      <td>-34.6667</td>\n",
       "      <td>94</td>\n",
       "      <td>3.44</td>\n",
       "    </tr>\n",
       "    <tr>\n",
       "      <th>...</th>\n",
       "      <td>...</td>\n",
       "      <td>...</td>\n",
       "      <td>...</td>\n",
       "      <td>...</td>\n",
       "      <td>...</td>\n",
       "    </tr>\n",
       "    <tr>\n",
       "      <th>570</th>\n",
       "      <td>laerdalsoyri</td>\n",
       "      <td>3.83</td>\n",
       "      <td>61.0980</td>\n",
       "      <td>84</td>\n",
       "      <td>3.00</td>\n",
       "    </tr>\n",
       "    <tr>\n",
       "      <th>571</th>\n",
       "      <td>longjiang</td>\n",
       "      <td>5.27</td>\n",
       "      <td>47.3303</td>\n",
       "      <td>83</td>\n",
       "      <td>7.85</td>\n",
       "    </tr>\n",
       "    <tr>\n",
       "      <th>572</th>\n",
       "      <td>penza</td>\n",
       "      <td>-7.53</td>\n",
       "      <td>53.2007</td>\n",
       "      <td>89</td>\n",
       "      <td>9.15</td>\n",
       "    </tr>\n",
       "    <tr>\n",
       "      <th>573</th>\n",
       "      <td>kupang</td>\n",
       "      <td>84.20</td>\n",
       "      <td>-10.1667</td>\n",
       "      <td>89</td>\n",
       "      <td>10.36</td>\n",
       "    </tr>\n",
       "    <tr>\n",
       "      <th>574</th>\n",
       "      <td>kutum</td>\n",
       "      <td>45.59</td>\n",
       "      <td>14.2000</td>\n",
       "      <td>55</td>\n",
       "      <td>7.94</td>\n",
       "    </tr>\n",
       "  </tbody>\n",
       "</table>\n",
       "<p>575 rows × 5 columns</p>\n",
       "</div>"
      ],
      "text/plain": [
       "             City  Temperatures (F)  Latitude  Humidity %  Wind (mph)\n",
       "0          barrow             -4.00   71.2906          77       17.27\n",
       "1        hermanus             66.00  -34.4187          94        7.94\n",
       "2          astana             19.40   51.1801          79       26.84\n",
       "3    port lincoln             63.73  -34.7333          64       12.53\n",
       "4       maldonado             64.47  -34.6667          94        3.44\n",
       "..            ...               ...       ...         ...         ...\n",
       "570  laerdalsoyri              3.83   61.0980          84        3.00\n",
       "571     longjiang              5.27   47.3303          83        7.85\n",
       "572         penza             -7.53   53.2007          89        9.15\n",
       "573        kupang             84.20  -10.1667          89       10.36\n",
       "574         kutum             45.59   14.2000          55        7.94\n",
       "\n",
       "[575 rows x 5 columns]"
      ]
     },
     "execution_count": 25,
     "metadata": {},
     "output_type": "execute_result"
    }
   ],
   "source": [
    "weather_clean = weather_df.loc[weather_df['Humidity %']<=100]\n",
    "weather_clean"
   ]
  },
  {
   "cell_type": "markdown",
   "metadata": {},
   "source": [
    "## Plotting the Data\n",
    "* Use proper labeling of the plots using plot titles (including date of analysis) and axes labels.\n",
    "* Save the plotted figures as .pngs."
   ]
  },
  {
   "cell_type": "code",
   "execution_count": 26,
   "metadata": {},
   "outputs": [
    {
     "name": "stdout",
     "output_type": "stream",
     "text": [
      "2021-02-06\n"
     ]
    }
   ],
   "source": [
    "#get current date\n",
    "from datetime import datetime\n",
    "date = datetime.date(datetime.now())\n",
    "print(date)"
   ]
  },
  {
   "cell_type": "markdown",
   "metadata": {},
   "source": [
    "## Latitude vs. Temperature Plot"
   ]
  },
  {
   "cell_type": "code",
   "execution_count": 30,
   "metadata": {
    "scrolled": true
   },
   "outputs": [
    {
     "data": {
      "image/png": "[encoded data removed]",
      "text/plain": [
       "<Figure size 432x288 with 1 Axes>"
      ]
     },
     "metadata": {
      "needs_background": "light"
     },
     "output_type": "display_data"
    }
   ],
   "source": [
    "weather_clean.plot('Latitude', \"Temperatures (F)\", kind = 'scatter')\n",
    "plt.title(f'Comparison of Temperatures (F) vs Latitude (as of {date}).')\n",
    "plt.show()"
   ]
  },
  {
   "cell_type": "markdown",
   "metadata": {},
   "source": [
    "## Latitude vs. Humidity Plot"
   ]
  },
  {
   "cell_type": "code",
   "execution_count": 33,
   "metadata": {},
   "outputs": [
    {
     "data": {
      "image/png": "[encoded data removed]",
      "text/plain": [
       "<Figure size 432x288 with 1 Axes>"
      ]
     },
     "metadata": {
      "needs_background": "light"
     },
     "output_type": "display_data"
    }
   ],
   "source": [
    "weather_clean.plot('Latitude', \"Humidity %\", kind = 'scatter')\n",
    "plt.title(f'Comparison of Temperatures (F) vs Latitude (as of {date}).')\n",
    "plt.show()"
   ]
  },
  {
   "cell_type": "markdown",
   "metadata": {},
   "source": [
    "## Latitude vs. Cloudiness Plot"
   ]
  },
  {
   "cell_type": "code",
   "execution_count": null,
   "metadata": {},
   "outputs": [],
   "source": [
    "weather_clean.plot('Latitude', \"Cloudiness\", kind = 'scatter')\n",
    "plt.title(f'Comparison of Cloudiness vs Latitude (as of {date}).')\n",
    "plt.show()"
   ]
  },
  {
   "cell_type": "markdown",
   "metadata": {},
   "source": [
    "## Latitude vs. Wind Speed Plot"
   ]
  },
  {
   "cell_type": "code",
   "execution_count": 34,
   "metadata": {},
   "outputs": [
    {
     "data": {
      "image/png": "[encoded data removed]",
      "text/plain": [
       "<Figure size 432x288 with 1 Axes>"
      ]
     },
     "metadata": {
      "needs_background": "light"
     },
     "output_type": "display_data"
    }
   ],
   "source": [
    "weather_clean.plot('Latitude', \"Wind (mph)\", kind = 'scatter')\n",
    "plt.title(f'Comparison of Wind Speed (mph) vs Latitude (as of {date}).')\n",
    "plt.show()"
   ]
  },
  {
   "cell_type": "markdown",
   "metadata": {},
   "source": [
    "## Linear Regression"
   ]
  },
  {
   "cell_type": "code",
   "execution_count": 36,
   "metadata": {},
   "outputs": [
    {
     "data": {
      "text/plain": [
       "City            Temperatures (F)  Latitude  Humidity %  Wind (mph)\n",
       "yurimaguas      74.89             -5.9000   93          0.65          1\n",
       "hithadhoo       81.52             -0.6000   74          11.59         1\n",
       "isangel         87.80             -19.5500  70          5.75          1\n",
       "iquique         71.60             -20.2208  53          10.36         1\n",
       "ipanema         69.98             -30.1391  78          1.14          1\n",
       "                                                                     ..\n",
       "nisia floresta  76.10             -6.0911   88          3.44          1\n",
       "new norfolk     66.99             -42.7826  43          4.00          1\n",
       "neuquen         73.40             -38.9516  73          3.44          1\n",
       "nelson bay      79.41             -32.7167  47          17.27         1\n",
       "ahipara         68.68             -35.1667  67          1.72          1\n",
       "Length: 172, dtype: int64"
      ]
     },
     "execution_count": 36,
     "metadata": {},
     "output_type": "execute_result"
    }
   ],
   "source": [
    "northern_hem_df = weather_clean.loc[weather_clean['Latitude']>= 0]\n",
    "southern_hem_df = weather_clean.loc[weather_clean['Latitude']<0]"
   ]
  },
  {
   "cell_type": "markdown",
   "metadata": {},
   "source": [
    "####  Northern Hemisphere - Max Temp vs. Latitude Linear Regression"
   ]
  },
  {
   "cell_type": "code",
   "execution_count": 38,
   "metadata": {},
   "outputs": [
    {
     "data": {
      "image/png": "[encoded data removed]",
      "text/plain": [
       "<Figure size 432x288 with 1 Axes>"
      ]
     },
     "metadata": {
      "needs_background": "light"
     },
     "output_type": "display_data"
    }
   ],
   "source": [
    "(slope, intercept, rvalue, pvalue, stderr) = linregress(northern_hem_df['Latitude'], northern_hem_df['Temperatures (F)'])\n",
    "line_eq = \"y = \" + str(round(slope,2)) + \"x + \" + str(round(intercept,2))\n",
    "regress_values = northern_hem_df['Latitude'] * slope + intercept\n",
    "plt.plot(northern_hem_df['Latitude'], regress_values, \"r-\")\n",
    "plt.scatter(northern_hem_df['Latitude'], northern_hem_df['Temperatures (F)'])\n",
    "plt.title('Northern Hemisphere - Max Temp vs. Latitude Linear Regression')\n",
    "plt.show()"
   ]
  },
  {
   "cell_type": "markdown",
   "metadata": {},
   "source": [
    "####  Southern Hemisphere - Max Temp vs. Latitude Linear Regression"
   ]
  },
  {
   "cell_type": "code",
   "execution_count": 39,
   "metadata": {},
   "outputs": [
    {
     "data": {
      "image/png": "[encoded data removed]",
      "text/plain": [
       "<Figure size 432x288 with 1 Axes>"
      ]
     },
     "metadata": {
      "needs_background": "light"
     },
     "output_type": "display_data"
    }
   ],
   "source": [
    "(slope, intercept, rvalue, pvalue, stderr) = linregress(southern_hem_df['Latitude'], southern_hem_df['Temperatures (F)'])\n",
    "line_eq = \"y = \" + str(round(slope,2)) + \"x + \" + str(round(intercept,2))\n",
    "regress_values = southern_hem_df['Latitude'] * slope + intercept\n",
    "plt.plot(southern_hem_df['Latitude'], regress_values, \"r-\")\n",
    "plt.scatter(southern_hem_df['Latitude'], southern_hem_df['Temperatures (F)'])\n",
    "plt.title('Southern Hemisphere - Max Temp vs. Latitude Linear Regression')\n",
    "plt.show()"
   ]
  },
  {
   "cell_type": "markdown",
   "metadata": {},
   "source": [
    "####  Northern Hemisphere - Humidity (%) vs. Latitude Linear Regression"
   ]
  },
  {
   "cell_type": "code",
   "execution_count": 40,
   "metadata": {},
   "outputs": [
    {
     "data": {
      "image/png": "[encoded data removed]",
      "text/plain": [
       "<Figure size 432x288 with 1 Axes>"
      ]
     },
     "metadata": {
      "needs_background": "light"
     },
     "output_type": "display_data"
    }
   ],
   "source": [
    "(slope, intercept, rvalue, pvalue, stderr) = linregress(northern_hem_df['Latitude'], northern_hem_df['Humidity %'])\n",
    "line_eq = \"y = \" + str(round(slope,2)) + \"x + \" + str(round(intercept,2))\n",
    "regress_values = northern_hem_df['Latitude'] * slope + intercept\n",
    "plt.plot(northern_hem_df['Latitude'], regress_values, \"r-\")\n",
    "plt.scatter(northern_hem_df['Latitude'], northern_hem_df['Humidity %'])\n",
    "plt.title(\"Northern Hemisphere - Humidity (%) vs. Latitude Linear Regression\")\n",
    "plt.show()"
   ]
  },
  {
   "cell_type": "markdown",
   "metadata": {},
   "source": [
    "####  Southern Hemisphere - Humidity (%) vs. Latitude Linear Regression"
   ]
  },
  {
   "cell_type": "code",
   "execution_count": 41,
   "metadata": {},
   "outputs": [
    {
     "data": {
      "image/png": "[encoded data removed]",
      "text/plain": [
       "<Figure size 432x288 with 1 Axes>"
      ]
     },
     "metadata": {
      "needs_background": "light"
     },
     "output_type": "display_data"
    }
   ],
   "source": [
    "(slope, intercept, rvalue, pvalue, stderr) = linregress(southern_hem_df['Latitude'],southern_hem_df['Humidity %'])\n",
    "line_eq = \"y = \" + str(round(slope,2)) + \"x + \" + str(round(intercept,2))\n",
    "regress_values = southern_hem_df['Latitude'] * slope + intercept\n",
    "plt.plot(southern_hem_df['Latitude'], regress_values, \"r-\")\n",
    "plt.scatter(southern_hem_df['Latitude'],southern_hem_df['Humidity %'])\n",
    "plt.title('Southern Hemisphere - Humidity (%) vs. Latitude Linear Regression')\n",
    "plt.show()"
   ]
  },
  {
   "cell_type": "markdown",
   "metadata": {},
   "source": [
    "####  Northern Hemisphere - Cloudiness (%) vs. Latitude Linear Regression"
   ]
  },
  {
   "cell_type": "code",
   "execution_count": null,
   "metadata": {},
   "outputs": [],
   "source": [
    "(slope, intercept, rvalue, pvalue, stderr) = linregress(northern_hem_df['Latitude'], northern_hem_df['Cloudiness'])\n",
    "line_eq = \"y = \" + str(round(slope,2)) + \"x + \" + str(round(intercept,2))\n",
    "regress_values = northern_hem_df['Latitude'] * slope + intercept\n",
    "plt.plot(northern_hem_df['Latitude'], regress_values, \"r-\")\n",
    "plt.scatter(northern_hem_df['Latitude'], northern_hem_df['Cloudiness'])\n",
    "plt.title(\"Northern Hemisphere - Cloudiness (%) vs. Latitude Linear Regression\")\n",
    "plt.show()"
   ]
  },
  {
   "cell_type": "markdown",
   "metadata": {},
   "source": [
    "####  Southern Hemisphere - Cloudiness (%) vs. Latitude Linear Regression"
   ]
  },
  {
   "cell_type": "code",
   "execution_count": null,
   "metadata": {},
   "outputs": [],
   "source": [
    "(slope, intercept, rvalue, pvalue, stderr) = linregress(southern_hem_df['Latitude'], southern_hem_df['Cloudiness'])\n",
    "line_eq = \"y = \" + str(round(slope,2)) + \"x + \" + str(round(intercept,2))\n",
    "regress_values = southern_hem_df['Latitude'] * slope + intercept\n",
    "plt.plot(southern_hem_df['Latitude'], regress_values, \"r-\")\n",
    "plt.scatter(southern_hem_df['Latitude'], southern_hem_df['Cloudiness'])\n",
    "plt.title('Southern Hemisphere - Cloudiness (%) vs. Latitude Linear Regression')\n",
    "plt.show()"
   ]
  },
  {
   "cell_type": "markdown",
   "metadata": {},
   "source": [
    "####  Northern Hemisphere - Wind Speed (mph) vs. Latitude Linear Regression"
   ]
  },
  {
   "cell_type": "code",
   "execution_count": 42,
   "metadata": {},
   "outputs": [
    {
     "data": {
      "image/png": "[encoded data removed]",
      "text/plain": [
       "<Figure size 432x288 with 1 Axes>"
      ]
     },
     "metadata": {
      "needs_background": "light"
     },
     "output_type": "display_data"
    }
   ],
   "source": [
    "(slope, intercept, rvalue, pvalue, stderr) = linregress(northern_hem_df['Latitude'], northern_hem_df['Wind (mph)'])\n",
    "line_eq = \"y = \" + str(round(slope,2)) + \"x + \" + str(round(intercept,2))\n",
    "regress_values = northern_hem_df['Latitude'] * slope + intercept\n",
    "plt.plot(northern_hem_df['Latitude'], regress_values, \"r-\")\n",
    "plt.scatter(northern_hem_df['Latitude'], northern_hem_df['Wind (mph)'])\n",
    "plt.title('Northern Hemisphere - Wind Speed (mph) vs. Latitude Linear Regression')\n",
    "plt.show()"
   ]
  },
  {
   "cell_type": "markdown",
   "metadata": {},
   "source": [
    "####  Southern Hemisphere - Wind Speed (mph) vs. Latitude Linear Regression"
   ]
  },
  {
   "cell_type": "code",
   "execution_count": 43,
   "metadata": {},
   "outputs": [
    {
     "data": {
      "image/png": "[encoded data removed]",
      "text/plain": [
       "<Figure size 432x288 with 1 Axes>"
      ]
     },
     "metadata": {
      "needs_background": "light"
     },
     "output_type": "display_data"
    }
   ],
   "source": [
    "(slope, intercept, rvalue, pvalue, stderr) = linregress(southern_hem_df['Latitude'], southern_hem_df['Wind (mph)'])\n",
    "line_eq = \"y = \" + str(round(slope,2)) + \"x + \" + str(round(intercept,2))\n",
    "regress_values = southern_hem_df['Latitude'] * slope + intercept\n",
    "plt.plot(southern_hem_df['Latitude'], regress_values, \"r-\")\n",
    "plt.scatter(southern_hem_df['Latitude'], southern_hem_df['Wind (mph)'])\n",
    "plt.title('Southern Hemisphere - Wind Speed (mph) vs. Latitude Linear Regression')\n",
    "plt.show()"
   ]
  },
  {
   "cell_type": "code",
   "execution_count": null,
   "metadata": {},
   "outputs": [],
   "source": []
  }
 ],
 "metadata": {
  "anaconda-cloud": {},
  "kernel_info": {
   "name": "python3"
  },
  "kernelspec": {
   "display_name": "Python 3",
   "language": "python",
   "name": "python3"
  },
  "language_info": {
   "codemirror_mode": {
    "name": "ipython",
    "version": 3
   },
   "file_extension": ".py",
   "mimetype": "text/x-python",
   "name": "python",
   "nbconvert_exporter": "python",
   "pygments_lexer": "ipython3",
   "version": "3.8.5"
  },
  "latex_envs": {
   "LaTeX_envs_menu_present": true,
   "autoclose": false,
   "autocomplete": true,
   "bibliofile": "biblio.bib",
   "cite_by": "apalike",
   "current_citInitial": 1,
   "eqLabelWithNumbers": true,
   "eqNumInitial": 1,
   "hotkeys": {
    "equation": "Ctrl-E",
    "itemize": "Ctrl-I"
   },
   "labels_anchors": false,
   "latex_user_defs": false,
   "report_style_numbering": false,
   "user_envs_cfg": false
  },
  "nteract": {
   "version": "0.12.3"
  }
 },
 "nbformat": 4,
 "nbformat_minor": 2
}
